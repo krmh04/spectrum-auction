{
 "cells": [
  {
   "cell_type": "code",
   "execution_count": 2,
   "id": "3ee6adbe-a9f1-43ea-93bd-efe3368e07bd",
   "metadata": {},
   "outputs": [],
   "source": [
    "import pandas as pd\n",
    "import io\n",
    "import os\n",
    "from datetime import date,datetime,timedelta\n",
    "import collections\n",
    "from pathlib import Path\n",
    "collections.Callable=collections.abc.Callable\n",
    "import numpy as np\n"
   ]
  },
  {
   "cell_type": "code",
   "execution_count": 3,
   "id": "9fef5969-c2db-4666-bb52-6202c2bb94d1",
   "metadata": {},
   "outputs": [
    {
     "name": "stdout",
     "output_type": "stream",
     "text": [
      "f:\\Spectrum Auction\\spectrum-auctions\n"
     ]
    }
   ],
   "source": [
    "os.chdir=(r\"F:\\Spectrum Auction\\spectrum-auctions\")\n",
    "print(os.getcwd())"
   ]
  },
  {
   "cell_type": "code",
   "execution_count": 5,
   "id": "48a15366-9788-4f80-ad26-a2b4ae07e44c",
   "metadata": {},
   "outputs": [],
   "source": [
    "service_area_dict = {\n",
    "'Andhra Pradesh': 'AP',\n",
    "'Assam':'AS',\n",
    "'Bihar':'BH',\n",
    "'Delhi': 'DEL',\n",
    "'Gujarat':'GU',\n",
    "'Haryana':'HA',\n",
    "'Himachal Pradesh': 'HP',\n",
    "'Jammu & Kashmir': 'JK',\n",
    "'Karnataka' : 'KA',\n",
    "'Kerala': 'KE',\n",
    "'Kolkata': 'KOL',\n",
    "'Madhya Pradesh' : 'MP',\n",
    "'Maharashtra': 'MA',\n",
    "'Mumbai':'MU',\n",
    "'North East' : 'NE',\n",
    "'Odisha': 'OR',\n",
    "'Punjab': 'PU',\n",
    "'Rajasthan': 'RA',\n",
    "'Tamil Nadu' : 'TN',\n",
    "'Uttar Pradesh (East)' : 'UPE',\n",
    "'Uttar Pradesh (West)' : 'UPW',\n",
    "'West Bengal': 'WB'\n",
    "            }\n",
    "\n",
    "band_dict={'900(MHz)':900,\n",
    "           '2100(MHz)': 2100,\n",
    "           '2500(MHz)': 2500,\n",
    "           '1800(MHz)': 1800}\n",
    "block_size_dict={\n",
    "    1800:0.2, 900:0.2,2100:5,2500:10}\n",
    "bidder_dict={'Vodafone Idea Limited': 'Vi',\n",
    "             'Bharti Airtel Limited': 'Airtel',\n",
    "             'Reliance Jio Infocomm Limited': 'Jio'}\n"
   ]
  },
  {
   "cell_type": "code",
   "execution_count": 6,
   "id": "95b7b7d7-d1f7-424c-ae83-304b68455e2a",
   "metadata": {},
   "outputs": [],
   "source": [
    "df=pd.read_excel(\"Auction_Provisional_FAR.xlsx\",engine='openpyxl',sheet_name=\"Sheet1\")\n"
   ]
  },
  {
   "cell_type": "code",
   "execution_count": 7,
   "id": "5e44b480-68b7-4c73-81bc-fbd4b4e99d40",
   "metadata": {},
   "outputs": [],
   "source": [
    "df=df.dropna(axis=1,how='all').dropna(axis=0,how='all').ffill().ffill(axis=1)"
   ]
  },
  {
   "cell_type": "code",
   "execution_count": 8,
   "id": "64b21565-9549-4746-8a96-9dece8588f54",
   "metadata": {},
   "outputs": [],
   "source": [
    "df=df.replace(service_area_dict).replace(band_dict).replace(bidder_dict)"
   ]
  },
  {
   "cell_type": "code",
   "execution_count": 9,
   "id": "4e7ff3c9-3949-450f-aa12-4da09286a1e2",
   "metadata": {},
   "outputs": [],
   "source": [
    "df = df[df['Unnamed: 4'].str.match(r'^\\d*\\.?\\d*$', na=True)]"
   ]
  },
  {
   "cell_type": "code",
   "execution_count": 10,
   "id": "ffb5d2c0-deb4-4080-8086-f7324f9d8361",
   "metadata": {},
   "outputs": [],
   "source": [
    "df.columns=[\"LSA\",\"Band\",\"Winning Price per block\", \"Bidder\", \"Uplink Start\",\"Uplink Stop\",\"Downlink Start\",\"Downlink Stop\"]"
   ]
  },
  {
   "cell_type": "code",
   "execution_count": 11,
   "id": "af70dba1-53a2-4955-87d2-95825c8a0441",
   "metadata": {},
   "outputs": [
    {
     "data": {
      "text/plain": [
       "{'Airtel', 'Jio', 'Vi'}"
      ]
     },
     "execution_count": 11,
     "metadata": {},
     "output_type": "execute_result"
    }
   ],
   "source": [
    "set(df[\"Bidder\"])"
   ]
  },
  {
   "cell_type": "code",
   "execution_count": 12,
   "id": "1b528a7e-ddfa-4fa8-903d-8404ba73852a",
   "metadata": {},
   "outputs": [],
   "source": [
    "new_row = {\n",
    "    'LSA': 'BH',\n",
    "    'Band': 2500,\n",
    "    'Winning Price per block': 150.000,\n",
    "    'Bidder': 'Vi',\n",
    "    'Uplink Start': 2545,\n",
    "    'Uplink Stop': 2555,\n",
    "    'Downlink Start': None,  \n",
    "    'Downlink Stop': None,    \n",
    "    'Block Size': 10\n",
    "}\n",
    "df = pd.concat([df, pd.DataFrame([new_row])], ignore_index=True)"
   ]
  },
  {
   "cell_type": "code",
   "execution_count": 13,
   "id": "24375336-259c-4737-9cdd-d4c6b01a64bb",
   "metadata": {},
   "outputs": [],
   "source": [
    "df=df.reset_index(drop=True)"
   ]
  },
  {
   "cell_type": "code",
   "execution_count": 14,
   "id": "46d39d71-9bf8-407f-819d-e14aaef5fc26",
   "metadata": {},
   "outputs": [],
   "source": [
    "df[\"Block Size\"]=[block_size_dict[x] for x in df[\"Band\"]]"
   ]
  },
  {
   "cell_type": "code",
   "execution_count": 15,
   "id": "7e2ad920-b511-4ffa-beff-e07fa307ee01",
   "metadata": {},
   "outputs": [],
   "source": [
    "df=df.replace(r'\\*','',regex=True)"
   ]
  },
  {
   "cell_type": "code",
   "execution_count": 16,
   "id": "462240ce-2476-4044-9a26-1a66653a478c",
   "metadata": {},
   "outputs": [],
   "source": [
    "df[\"MHz Won\"] =df[\"Uplink Stop\"].astype(float)-df[\"Uplink Start\"].astype(float)"
   ]
  },
  {
   "cell_type": "code",
   "execution_count": 17,
   "id": "7d75fbd5-a8b1-4044-ad78-5b4976f80ad3",
   "metadata": {},
   "outputs": [],
   "source": [
    "df[\"Bidder Outflow\"]= (df[\"MHz Won\"]/df[\"Block Size\"])*df[\"Winning Price per block\"].astype(float)"
   ]
  },
  {
   "cell_type": "code",
   "execution_count": 18,
   "id": "c1d2fdba",
   "metadata": {},
   "outputs": [
    {
     "data": {
      "text/html": [
       "<div>\n",
       "<style scoped>\n",
       "    .dataframe tbody tr th:only-of-type {\n",
       "        vertical-align: middle;\n",
       "    }\n",
       "\n",
       "    .dataframe tbody tr th {\n",
       "        vertical-align: top;\n",
       "    }\n",
       "\n",
       "    .dataframe thead th {\n",
       "        text-align: right;\n",
       "    }\n",
       "</style>\n",
       "<table border=\"1\" class=\"dataframe\">\n",
       "  <thead>\n",
       "    <tr style=\"text-align: right;\">\n",
       "      <th></th>\n",
       "      <th>LSA</th>\n",
       "      <th>Band</th>\n",
       "      <th>Winning Price per block</th>\n",
       "      <th>Bidder</th>\n",
       "      <th>Uplink Start</th>\n",
       "      <th>Uplink Stop</th>\n",
       "      <th>Downlink Start</th>\n",
       "      <th>Downlink Stop</th>\n",
       "      <th>Block Size</th>\n",
       "      <th>MHz Won</th>\n",
       "      <th>Bidder Outflow</th>\n",
       "    </tr>\n",
       "  </thead>\n",
       "  <tbody>\n",
       "    <tr>\n",
       "      <th>0</th>\n",
       "      <td>AP</td>\n",
       "      <td>900</td>\n",
       "      <td>57.6</td>\n",
       "      <td>Vi</td>\n",
       "      <td>908.3</td>\n",
       "      <td>908.5</td>\n",
       "      <td>953.3</td>\n",
       "      <td>953.5</td>\n",
       "      <td>0.2</td>\n",
       "      <td>0.2</td>\n",
       "      <td>57.6</td>\n",
       "    </tr>\n",
       "    <tr>\n",
       "      <th>1</th>\n",
       "      <td>AP</td>\n",
       "      <td>900</td>\n",
       "      <td>57.6</td>\n",
       "      <td>Vi</td>\n",
       "      <td>908.1</td>\n",
       "      <td>908.3</td>\n",
       "      <td>953.1</td>\n",
       "      <td>953.3</td>\n",
       "      <td>0.2</td>\n",
       "      <td>0.2</td>\n",
       "      <td>57.6</td>\n",
       "    </tr>\n",
       "    <tr>\n",
       "      <th>2</th>\n",
       "      <td>AP</td>\n",
       "      <td>900</td>\n",
       "      <td>57.6</td>\n",
       "      <td>Vi</td>\n",
       "      <td>907.9</td>\n",
       "      <td>908.1</td>\n",
       "      <td>952.9</td>\n",
       "      <td>953.1</td>\n",
       "      <td>0.2</td>\n",
       "      <td>0.2</td>\n",
       "      <td>57.6</td>\n",
       "    </tr>\n",
       "    <tr>\n",
       "      <th>3</th>\n",
       "      <td>AP</td>\n",
       "      <td>900</td>\n",
       "      <td>57.6</td>\n",
       "      <td>Vi</td>\n",
       "      <td>907.7</td>\n",
       "      <td>907.9</td>\n",
       "      <td>952.7</td>\n",
       "      <td>952.9</td>\n",
       "      <td>0.2</td>\n",
       "      <td>0.2</td>\n",
       "      <td>57.6</td>\n",
       "    </tr>\n",
       "    <tr>\n",
       "      <th>4</th>\n",
       "      <td>AP</td>\n",
       "      <td>900</td>\n",
       "      <td>57.6</td>\n",
       "      <td>Vi</td>\n",
       "      <td>907.5</td>\n",
       "      <td>907.7</td>\n",
       "      <td>952.5</td>\n",
       "      <td>952.7</td>\n",
       "      <td>0.2</td>\n",
       "      <td>0.2</td>\n",
       "      <td>57.6</td>\n",
       "    </tr>\n",
       "    <tr>\n",
       "      <th>...</th>\n",
       "      <td>...</td>\n",
       "      <td>...</td>\n",
       "      <td>...</td>\n",
       "      <td>...</td>\n",
       "      <td>...</td>\n",
       "      <td>...</td>\n",
       "      <td>...</td>\n",
       "      <td>...</td>\n",
       "      <td>...</td>\n",
       "      <td>...</td>\n",
       "      <td>...</td>\n",
       "    </tr>\n",
       "    <tr>\n",
       "      <th>557</th>\n",
       "      <td>AS</td>\n",
       "      <td>2100</td>\n",
       "      <td>120.0</td>\n",
       "      <td>Airtel</td>\n",
       "      <td>1949.0</td>\n",
       "      <td>1954.0</td>\n",
       "      <td>2139.0</td>\n",
       "      <td>2144.0</td>\n",
       "      <td>5.0</td>\n",
       "      <td>5.0</td>\n",
       "      <td>120.0</td>\n",
       "    </tr>\n",
       "    <tr>\n",
       "      <th>558</th>\n",
       "      <td>JK</td>\n",
       "      <td>2100</td>\n",
       "      <td>40.0</td>\n",
       "      <td>Airtel</td>\n",
       "      <td>1974.0</td>\n",
       "      <td>1979.0</td>\n",
       "      <td>2164.0</td>\n",
       "      <td>2169.0</td>\n",
       "      <td>5.0</td>\n",
       "      <td>5.0</td>\n",
       "      <td>40.0</td>\n",
       "    </tr>\n",
       "    <tr>\n",
       "      <th>559</th>\n",
       "      <td>NE</td>\n",
       "      <td>2100</td>\n",
       "      <td>25.0</td>\n",
       "      <td>Airtel</td>\n",
       "      <td>1969.0</td>\n",
       "      <td>1974.0</td>\n",
       "      <td>2159.0</td>\n",
       "      <td>2164.0</td>\n",
       "      <td>5.0</td>\n",
       "      <td>5.0</td>\n",
       "      <td>25.0</td>\n",
       "    </tr>\n",
       "    <tr>\n",
       "      <th>560</th>\n",
       "      <td>UPW</td>\n",
       "      <td>2100</td>\n",
       "      <td>360.0</td>\n",
       "      <td>Airtel</td>\n",
       "      <td>1949.0</td>\n",
       "      <td>1954.0</td>\n",
       "      <td>2139.0</td>\n",
       "      <td>2144.0</td>\n",
       "      <td>5.0</td>\n",
       "      <td>5.0</td>\n",
       "      <td>360.0</td>\n",
       "    </tr>\n",
       "    <tr>\n",
       "      <th>561</th>\n",
       "      <td>BH</td>\n",
       "      <td>2500</td>\n",
       "      <td>150.0</td>\n",
       "      <td>Vi</td>\n",
       "      <td>2545.0</td>\n",
       "      <td>2555.0</td>\n",
       "      <td>NaN</td>\n",
       "      <td>NaN</td>\n",
       "      <td>10.0</td>\n",
       "      <td>10.0</td>\n",
       "      <td>150.0</td>\n",
       "    </tr>\n",
       "  </tbody>\n",
       "</table>\n",
       "<p>562 rows × 11 columns</p>\n",
       "</div>"
      ],
      "text/plain": [
       "     LSA  Band  Winning Price per block  Bidder  Uplink Start  Uplink Stop  \\\n",
       "0     AP   900                     57.6      Vi         908.3        908.5   \n",
       "1     AP   900                     57.6      Vi         908.1        908.3   \n",
       "2     AP   900                     57.6      Vi         907.9        908.1   \n",
       "3     AP   900                     57.6      Vi         907.7        907.9   \n",
       "4     AP   900                     57.6      Vi         907.5        907.7   \n",
       "..   ...   ...                      ...     ...           ...          ...   \n",
       "557   AS  2100                    120.0  Airtel        1949.0       1954.0   \n",
       "558   JK  2100                     40.0  Airtel        1974.0       1979.0   \n",
       "559   NE  2100                     25.0  Airtel        1969.0       1974.0   \n",
       "560  UPW  2100                    360.0  Airtel        1949.0       1954.0   \n",
       "561   BH  2500                    150.0      Vi        2545.0       2555.0   \n",
       "\n",
       "     Downlink Start  Downlink Stop  Block Size  MHz Won  Bidder Outflow  \n",
       "0             953.3          953.5         0.2      0.2            57.6  \n",
       "1             953.1          953.3         0.2      0.2            57.6  \n",
       "2             952.9          953.1         0.2      0.2            57.6  \n",
       "3             952.7          952.9         0.2      0.2            57.6  \n",
       "4             952.5          952.7         0.2      0.2            57.6  \n",
       "..              ...            ...         ...      ...             ...  \n",
       "557          2139.0         2144.0         5.0      5.0           120.0  \n",
       "558          2164.0         2169.0         5.0      5.0            40.0  \n",
       "559          2159.0         2164.0         5.0      5.0            25.0  \n",
       "560          2139.0         2144.0         5.0      5.0           360.0  \n",
       "561             NaN            NaN        10.0     10.0           150.0  \n",
       "\n",
       "[562 rows x 11 columns]"
      ]
     },
     "execution_count": 18,
     "metadata": {},
     "output_type": "execute_result"
    }
   ],
   "source": [
    "df"
   ]
  },
  {
   "cell_type": "code",
   "execution_count": 19,
   "id": "69148408-b953-4314-9fee-3ad90b6831b2",
   "metadata": {},
   "outputs": [
    {
     "data": {
      "text/plain": [
       "Bidder\n",
       "Airtel    6856.766\n",
       "Jio        973.628\n",
       "Vi        3510.400\n",
       "Name: Bidder Outflow, dtype: float64"
      ]
     },
     "execution_count": 19,
     "metadata": {},
     "output_type": "execute_result"
    }
   ],
   "source": [
    "df.groupby([\"Bidder\"])[\"Bidder Outflow\"].sum()"
   ]
  },
  {
   "cell_type": "code",
   "execution_count": 20,
   "id": "54343ad1-240e-49c1-8ad5-31f1f274d608",
   "metadata": {},
   "outputs": [
    {
     "name": "stdout",
     "output_type": "stream",
     "text": [
      "11340.794000000002\n"
     ]
    }
   ],
   "source": [
    "gov_revenue=df.groupby([\"Bidder\"])[\"Bidder Outflow\"].sum().sum()\n",
    "print(gov_revenue)"
   ]
  },
  {
   "cell_type": "code",
   "execution_count": 21,
   "id": "ac01d4fd-d933-45d6-ab86-a754284bc99f",
   "metadata": {},
   "outputs": [
    {
     "data": {
      "text/plain": [
       "141.40000000000032"
      ]
     },
     "execution_count": 21,
     "metadata": {},
     "output_type": "execute_result"
    }
   ],
   "source": [
    "df.groupby([\"LSA\"])[\"MHz Won\"].sum().sum()"
   ]
  },
  {
   "cell_type": "code",
   "execution_count": 22,
   "id": "e848f6d5-60ce-4f1e-9949-2773926e144d",
   "metadata": {},
   "outputs": [
    {
     "name": "stdout",
     "output_type": "stream",
     "text": [
      "141.40000000000032\n"
     ]
    }
   ],
   "source": [
    "total_mhz_won =df.groupby([\"LSA\"])[\"MHz Won\"].sum().sum()\n",
    "print(total_mhz_won)"
   ]
  },
  {
   "cell_type": "code",
   "execution_count": 23,
   "id": "19721970-1871-4015-bf41-9b89c328b65f",
   "metadata": {},
   "outputs": [
    {
     "data": {
      "text/plain": [
       "LSA  Band  Bidder\n",
       "AP   900   Vi         2.4\n",
       "AS   900   Airtel     5.0\n",
       "     1800  Airtel     4.0\n",
       "     2100  Airtel     5.0\n",
       "BH   900   Airtel     7.0\n",
       "     1800  Airtel     5.2\n",
       "           Jio        5.0\n",
       "     2500  Vi        10.0\n",
       "HA   1800  Airtel     5.0\n",
       "JK   900   Airtel    10.0\n",
       "     2100  Airtel     5.0\n",
       "KA   900   Vi         2.2\n",
       "KOL  900   Vi         0.2\n",
       "     1800  Airtel     5.0\n",
       "MP   1800  Vi         1.2\n",
       "NE   900   Airtel     1.0\n",
       "     2100  Airtel     5.0\n",
       "OR   900   Airtel     5.0\n",
       "     1800  Airtel     1.0\n",
       "PU   900   Vi         1.2\n",
       "     1800  Airtel     5.0\n",
       "RA   900   Airtel     4.0\n",
       "           Vi         0.4\n",
       "     1800  Airtel     5.0\n",
       "TN   900   Vi         2.4\n",
       "UPE  900   Airtel     5.0\n",
       "           Vi         1.2\n",
       "     1800  Airtel     1.0\n",
       "UPW  900   Vi         5.0\n",
       "     2100  Airtel     5.0\n",
       "WB   900   Airtel     5.0\n",
       "           Vi         3.8\n",
       "     1800  Airtel     3.8\n",
       "           Jio        9.4\n",
       "Name: MHz Won, dtype: float64"
      ]
     },
     "execution_count": 23,
     "metadata": {},
     "output_type": "execute_result"
    }
   ],
   "source": [
    "df.groupby(['LSA','Band', 'Bidder'])['MHz Won'].sum()"
   ]
  },
  {
   "cell_type": "code",
   "execution_count": 24,
   "id": "bd0457e1-7660-4221-8973-0d7efe7ab3ad",
   "metadata": {},
   "outputs": [
    {
     "data": {
      "text/plain": [
       "LSA  Band  Bidder\n",
       "AP   900   Vi         691.200\n",
       "AS   900   Airtel     315.000\n",
       "     1800  Airtel     128.000\n",
       "     2100  Airtel     120.000\n",
       "BH   900   Airtel    1029.000\n",
       "     1800  Airtel     437.060\n",
       "           Jio        420.250\n",
       "     2500  Vi         150.000\n",
       "HA   1800  Airtel     205.000\n",
       "JK   900   Airtel     180.000\n",
       "     2100  Airtel      40.000\n",
       "KA   900   Vi         448.800\n",
       "KOL  900   Vi          30.600\n",
       "     1800  Airtel     545.000\n",
       "MP   1800  Vi         118.800\n",
       "NE   900   Airtel      16.000\n",
       "     2100  Airtel      25.000\n",
       "OR   900   Airtel     320.000\n",
       "     1800  Airtel      39.000\n",
       "PU   900   Vi         124.800\n",
       "     1800  Airtel     305.000\n",
       "RA   900   Airtel     540.000\n",
       "           Vi          54.000\n",
       "     1800  Airtel     420.000\n",
       "TN   900   Vi         532.800\n",
       "UPE  900   Airtel     930.000\n",
       "           Vi         223.200\n",
       "     1800  Airtel     184.000\n",
       "UPW  900   Vi         760.000\n",
       "     2100  Airtel     360.000\n",
       "WB   900   Airtel     495.000\n",
       "           Vi         376.200\n",
       "     1800  Airtel     223.706\n",
       "           Jio        553.378\n",
       "Name: Bidder Outflow, dtype: float64"
      ]
     },
     "execution_count": 24,
     "metadata": {},
     "output_type": "execute_result"
    }
   ],
   "source": [
    "df.groupby(['LSA','Band', 'Bidder'])['Bidder Outflow'].sum()"
   ]
  },
  {
   "cell_type": "code",
   "execution_count": 25,
   "id": "0cb3aef5-c4c6-4303-bd56-9364ca98dc94",
   "metadata": {},
   "outputs": [
    {
     "name": "stdout",
     "output_type": "stream",
     "text": [
      "11340.794000000005\n"
     ]
    }
   ],
   "source": [
    "total_rev= df.groupby(['LSA','Band', 'Bidder'])['Bidder Outflow'].sum().sum()\n",
    "print(total_rev)"
   ]
  },
  {
   "cell_type": "code",
   "execution_count": null,
   "id": "dfc98678-c4a7-4ed1-9f8d-1d9e0c94df31",
   "metadata": {},
   "outputs": [],
   "source": []
  }
 ],
 "metadata": {
  "kernelspec": {
   "display_name": "Python 3 (ipykernel)",
   "language": "python",
   "name": "python3"
  },
  "language_info": {
   "codemirror_mode": {
    "name": "ipython",
    "version": 3
   },
   "file_extension": ".py",
   "mimetype": "text/x-python",
   "name": "python",
   "nbconvert_exporter": "python",
   "pygments_lexer": "ipython3",
   "version": "3.11.5"
  }
 },
 "nbformat": 4,
 "nbformat_minor": 5
}
