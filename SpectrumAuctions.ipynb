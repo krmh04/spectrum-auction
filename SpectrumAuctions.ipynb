{
 "cells": [
  {
   "cell_type": "code",
   "execution_count": null,
   "id": "3ee6adbe-a9f1-43ea-93bd-efe3368e07bd",
   "metadata": {},
   "outputs": [],
   "source": [
    "import pandas as pd\n",
    "import io\n",
    "import os\n",
    "from datetime import date,datetime,timedelta\n",
    "import collections\n",
    "from pathlib import Path\n",
    "collections.Callable=collections.abc.Callable\n",
    "import numpy as np\n"
   ]
  },
  {
   "cell_type": "code",
   "execution_count": null,
   "id": "9fef5969-c2db-4666-bb52-6202c2bb94d1",
   "metadata": {},
   "outputs": [],
   "source": [
    "os.chdir=(r\"F:\\Spectrum Auction\")\n",
    "print(os.getcwd())"
   ]
  },
  {
   "cell_type": "code",
   "execution_count": null,
   "id": "48a15366-9788-4f80-ad26-a2b4ae07e44c",
   "metadata": {},
   "outputs": [],
   "source": [
    "service_area_dict = {\n",
    "'Andhra Pradesh': 'AP',\n",
    "'Assam':'AS',\n",
    "'Bihar':'BH',\n",
    "'Delhi': 'DEL',\n",
    "'Gujarat':'GU',\n",
    "'Haryana':'HA',\n",
    "'Himachal Pradesh': 'HP',\n",
    "'Jammu & Kashmir': 'JK',\n",
    "'Karnataka' : 'KA',\n",
    "'Kerala': 'KE',\n",
    "'Kolkata': 'KOL',\n",
    "'Madhya Pradesh' : 'MP',\n",
    "'Maharashtra': 'MA',\n",
    "'Mumbai':'MU',\n",
    "'North East' : 'NE',\n",
    "'Odisha': 'OR',\n",
    "'Punjab': 'PU',\n",
    "'Rajasthan': 'RA',\n",
    "'Tamil Nadu' : 'TN',\n",
    "'Uttar Pradesh (East)' : 'UPE',\n",
    "'Uttar Pradesh (West)' : 'UPW',\n",
    "'West Bengal': 'WB'\n",
    "            }\n",
    "\n",
    "band_dict={'900(MHz)':900,\n",
    "           '2100(MHz)': 2100,\n",
    "           '2500(MHz)': 2500,\n",
    "           '1800(MHz)': 1800}\n",
    "block_size_dict={\n",
    "    1800:0.2, 900:0.2,2100:5,2500:10}\n",
    "bidder_dict={'Vodafone Idea Limited': 'Vi',\n",
    "             'Bharti Airtel Limited': 'Airtel',\n",
    "             'Reliance Jio Infocomm Limited': 'Jio'}\n"
   ]
  },
  {
   "cell_type": "code",
   "execution_count": null,
   "id": "95b7b7d7-d1f7-424c-ae83-304b68455e2a",
   "metadata": {},
   "outputs": [],
   "source": [
    "df=pd.read_excel(\"Auction_Provisional_FAR.xlsx\",engine='openpyxl',sheet_name=\"Sheet1\")\n"
   ]
  },
  {
   "cell_type": "code",
   "execution_count": null,
   "id": "5e44b480-68b7-4c73-81bc-fbd4b4e99d40",
   "metadata": {},
   "outputs": [],
   "source": [
    "df=df.dropna(axis=1,how='all').dropna(axis=0,how='all').ffill().ffill(axis=1)"
   ]
  },
  {
   "cell_type": "code",
   "execution_count": null,
   "id": "64b21565-9549-4746-8a96-9dece8588f54",
   "metadata": {},
   "outputs": [],
   "source": [
    "df=df.replace(service_area_dict).replace(band_dict).replace(bidder_dict)"
   ]
  },
  {
   "cell_type": "code",
   "execution_count": null,
   "id": "4e7ff3c9-3949-450f-aa12-4da09286a1e2",
   "metadata": {},
   "outputs": [],
   "source": [
    "df = df[df['Unnamed: 4'].str.match(r'^\\d*\\.?\\d*$', na=True)]"
   ]
  },
  {
   "cell_type": "code",
   "execution_count": null,
   "id": "ffb5d2c0-deb4-4080-8086-f7324f9d8361",
   "metadata": {},
   "outputs": [],
   "source": [
    "df.columns=[\"LSA\",\"Band\",\"Winning Price per block\", \"Bidder\", \"Uplink Start\",\"Uplink Stop\",\"Downlink Start\",\"Downlink Stop\"]"
   ]
  },
  {
   "cell_type": "code",
   "execution_count": null,
   "id": "af70dba1-53a2-4955-87d2-95825c8a0441",
   "metadata": {},
   "outputs": [],
   "source": [
    "set(df[\"Bidder\"])"
   ]
  },
  {
   "cell_type": "code",
   "execution_count": null,
   "id": "1b528a7e-ddfa-4fa8-903d-8404ba73852a",
   "metadata": {},
   "outputs": [],
   "source": [
    "new_row = {\n",
    "    'LSA': 'BH',\n",
    "    'Band': 2500,\n",
    "    'Winning Price per block': 150.000,\n",
    "    'Bidder': 'Vi',\n",
    "    'Uplink Start': 2545,\n",
    "    'Uplink Stop': 2555,\n",
    "    'Downlink Start': None,  \n",
    "    'Downlink Stop': None,    \n",
    "    'Block Size': 10\n",
    "}\n",
    "df = pd.concat([df, pd.DataFrame([new_row])], ignore_index=True)"
   ]
  },
  {
   "cell_type": "code",
   "execution_count": null,
   "id": "24375336-259c-4737-9cdd-d4c6b01a64bb",
   "metadata": {},
   "outputs": [],
   "source": [
    "df=df.reset_index(drop=True)"
   ]
  },
  {
   "cell_type": "code",
   "execution_count": null,
   "id": "46d39d71-9bf8-407f-819d-e14aaef5fc26",
   "metadata": {},
   "outputs": [],
   "source": [
    "df[\"Block Size\"]=[block_size_dict[x] for x in df[\"Band\"]]"
   ]
  },
  {
   "cell_type": "code",
   "execution_count": null,
   "id": "7e2ad920-b511-4ffa-beff-e07fa307ee01",
   "metadata": {},
   "outputs": [],
   "source": [
    "df=df.replace(r'\\*','',regex=True)"
   ]
  },
  {
   "cell_type": "code",
   "execution_count": null,
   "id": "462240ce-2476-4044-9a26-1a66653a478c",
   "metadata": {},
   "outputs": [],
   "source": [
    "df[\"MHz Won\"] =df[\"Uplink Stop\"].astype(float)-df[\"Uplink Start\"].astype(float)"
   ]
  },
  {
   "cell_type": "code",
   "execution_count": null,
   "id": "7d75fbd5-a8b1-4044-ad78-5b4976f80ad3",
   "metadata": {},
   "outputs": [],
   "source": [
    "df[\"Bidder Outflow\"]= (df[\"MHz Won\"]/df[\"Block Size\"])*df[\"Winning Price per block\"].astype(float)"
   ]
  },
  {
   "cell_type": "code",
   "execution_count": null,
   "id": "69148408-b953-4314-9fee-3ad90b6831b2",
   "metadata": {},
   "outputs": [],
   "source": [
    "df.groupby([\"Bidder\"])[\"Bidder Outflow\"].sum()"
   ]
  },
  {
   "cell_type": "code",
   "execution_count": null,
   "id": "54343ad1-240e-49c1-8ad5-31f1f274d608",
   "metadata": {},
   "outputs": [],
   "source": [
    "gov_revenue=df.groupby([\"Bidder\"])[\"Bidder Outflow\"].sum().sum()\n",
    "print(gov_revenue)"
   ]
  },
  {
   "cell_type": "code",
   "execution_count": null,
   "id": "ac01d4fd-d933-45d6-ab86-a754284bc99f",
   "metadata": {},
   "outputs": [],
   "source": [
    "df.groupby([\"LSA\"])[\"MHz Won\"].sum().sum()"
   ]
  },
  {
   "cell_type": "code",
   "execution_count": null,
   "id": "e848f6d5-60ce-4f1e-9949-2773926e144d",
   "metadata": {},
   "outputs": [],
   "source": [
    "total_mhz_won =df.groupby([\"LSA\"])[\"MHz Won\"].sum().sum()\n",
    "print(total_mhz_won)"
   ]
  },
  {
   "cell_type": "code",
   "execution_count": null,
   "id": "19721970-1871-4015-bf41-9b89c328b65f",
   "metadata": {},
   "outputs": [],
   "source": [
    "df.groupby(['LSA','Band', 'Bidder'])['MHz Won'].sum()"
   ]
  },
  {
   "cell_type": "code",
   "execution_count": null,
   "id": "bd0457e1-7660-4221-8973-0d7efe7ab3ad",
   "metadata": {},
   "outputs": [],
   "source": [
    " df.groupby(['LSA','Band', 'Bidder'])['Bidder Outflow'].sum()"
   ]
  },
  {
   "cell_type": "code",
   "execution_count": null,
   "id": "0cb3aef5-c4c6-4303-bd56-9364ca98dc94",
   "metadata": {},
   "outputs": [],
   "source": [
    "total_rev= df.groupby(['LSA','Band', 'Bidder'])['Bidder Outflow'].sum().sum()\n",
    "print(total_rev)"
   ]
  },
  {
   "cell_type": "code",
   "execution_count": null,
   "id": "dfc98678-c4a7-4ed1-9f8d-1d9e0c94df31",
   "metadata": {},
   "outputs": [],
   "source": []
  }
 ],
 "metadata": {
  "kernelspec": {
   "display_name": "Python 3 (ipykernel)",
   "language": "python",
   "name": "python3"
  },
  "language_info": {
   "codemirror_mode": {
    "name": "ipython",
    "version": 3
   },
   "file_extension": ".py",
   "mimetype": "text/x-python",
   "name": "python",
   "nbconvert_exporter": "python",
   "pygments_lexer": "ipython3",
   "version": "3.11.5"
  }
 },
 "nbformat": 4,
 "nbformat_minor": 5
}
